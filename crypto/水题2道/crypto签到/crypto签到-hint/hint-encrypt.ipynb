{
 "cells": [
  {
   "cell_type": "markdown",
   "metadata": {},
   "source": [
    "## Run this notebook using Sage-Math 9"
   ]
  },
  {
   "cell_type": "code",
   "execution_count": 1,
   "metadata": {},
   "outputs": [],
   "source": [
    "import hashlib"
   ]
  },
  {
   "cell_type": "code",
   "execution_count": 2,
   "metadata": {},
   "outputs": [],
   "source": [
    "## Generate ECC Params \n",
    "p = random_prime(2^48)\n",
    "b = 7\n",
    "a = 0\n",
    "E = EllipticCurve(GF(p), [a, b])\n",
    "n = randint(2, p-1)\n",
    "P = E.random_point()\n",
    "Q = n*P"
   ]
  },
  {
   "cell_type": "code",
   "execution_count": 3,
   "metadata": {},
   "outputs": [],
   "source": [
    "flag_md5 = hashlib.md5(str(n).encode()).hexdigest();"
   ]
  },
  {
   "cell_type": "code",
   "execution_count": 4,
   "metadata": {},
   "outputs": [],
   "source": [
    "with open(\"flag.txt\", \"w\") as f:\n",
    "    f.write(\"lzuctf{\" + flag_md5 + \"}\")"
   ]
  },
  {
   "cell_type": "code",
   "execution_count": 6,
   "metadata": {},
   "outputs": [],
   "source": [
    "description = \"\"\"\n",
    "E: Elliptic Curve defined by y^2 = x^3 + 7  (mod {0})\n",
    "\n",
    "Let be points on E:\n",
    "P = {1}\n",
    "Q = {2}\n",
    "\n",
    "such that:\n",
    "Q = n*P\n",
    "\n",
    "Find n\n",
    "\n",
    "Note: Flag is lzuctf{{md5(n)}}\n",
    "\"\"\"\n",
    "with open(\"chall.txt\", \"w\") as f:\n",
    "    f.write(description.format(p, P, Q))"
   ]
  }
 ],
 "metadata": {
  "kernelspec": {
   "display_name": "SageMath 9.1",
   "language": "sagemath",
   "metadata": {
    "cocalc": {
     "description": "Open-source mathematical software system",
     "priority": 10,
     "url": "https://www.sagemath.org/"
    }
   },
   "name": "sage-9.1"
  },
  "language_info": {
   "codemirror_mode": {
    "name": "ipython",
    "version": 2
   },
   "file_extension": ".py",
   "mimetype": "text/x-python",
   "name": "python",
   "nbconvert_exporter": "python",
   "pygments_lexer": "ipython2",
   "version": "2.7.15"
  }
 },
 "nbformat": 4,
 "nbformat_minor": 4
}
